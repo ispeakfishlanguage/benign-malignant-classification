{
 "cells": [
  {
   "cell_type": "markdown",
   "metadata": {},
   "source": [
    "# **Data Visualization Notebook - Benign and Malignant classification of Skin Lesions**"
   ]
  },
  {
   "cell_type": "markdown",
   "metadata": {},
   "source": [
    "## Objectives\n",
    "\n",
    "* Answer business requirement 1:  \n",
    "The client is interested in having a study to visually differentiate a benign skin lesion from a malignant one\n",
    "\n",
    "## Inputs\n",
    "* input/Benign_Malignant_Dataset/MainData/  \n",
    "    * test  \n",
    "      * benign  \n",
    "      * malignant  \n",
    "    * train  \n",
    "      * benign  \n",
    "      * malignant   \n",
    "    * validation  \n",
    "      * benign  \n",
    "      * malignant   \n",
    "\n",
    "## Outputs\n",
    "* Image shape embeddings pickle file.\n",
    "* Mean and variability of images per label plot.\n",
    "* Plot to distinguish the contrast between healthy brain MRI and the one with a tumor.\n",
    "* Generate code that answers business requirement 1 and can be used to build an image montage on the Streamlit dashboard."
   ]
  }
 ],
 "metadata": {
  "language_info": {
   "name": "python"
  }
 },
 "nbformat": 4,
 "nbformat_minor": 2
}
