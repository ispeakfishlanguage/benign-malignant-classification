{
 "cells": [
  {
   "cell_type": "markdown",
   "metadata": {},
   "source": [
    "# **Data Visualization Notebook - Benign and Malignant classification of Skin Lesions**"
   ]
  },
  {
   "cell_type": "markdown",
   "metadata": {},
   "source": [
    "## Objectives\n",
    "\n",
    "* Answer business requirement 1:  \n",
    "The client is interested in having a study to visually differentiate a benign skin lesion from a malignant one\n",
    "\n",
    "## Inputs\n",
    "* input/Benign_Malignant_Dataset/MainData/  \n",
    "    * test  \n",
    "      * benign  \n",
    "      * malignant  \n",
    "    * train  \n",
    "      * benign  \n",
    "      * malignant   \n",
    "    * validation  \n",
    "      * benign  \n",
    "      * malignant   \n",
    "\n",
    "## Outputs\n",
    "* Image shape embeddings pickle file.\n",
    "* Mean and variability of images per label plot.\n",
    "* Plot to distinguish the contrast between healthy brain MRI and the one with a tumor.\n",
    "* Generate code that answers business requirement 1 and can be used to build an image montage on the Streamlit dashboard."
   ]
  },
  {
   "cell_type": "markdown",
   "metadata": {},
   "source": [
    "---"
   ]
  },
  {
   "cell_type": "markdown",
   "metadata": {},
   "source": [
    "## Set Data Directory"
   ]
  },
  {
   "cell_type": "markdown",
   "metadata": {},
   "source": [
    "---"
   ]
  },
  {
   "cell_type": "markdown",
   "metadata": {},
   "source": [
    "### Import libraries"
   ]
  },
  {
   "cell_type": "code",
   "execution_count": 13,
   "metadata": {},
   "outputs": [],
   "source": [
    "import os\n",
    "import pandas as pd\n",
    "import numpy as np\n",
    "import matplotlib.pyplot as plt\n",
    "import seaborn as sns\n",
    "import joblib\n",
    "from matplotlib.image import imread\n",
    "sns.set_style(\"white\")"
   ]
  },
  {
   "cell_type": "markdown",
   "metadata": {},
   "source": [
    "### Set working directory"
   ]
  },
  {
   "cell_type": "markdown",
   "metadata": {},
   "source": [
    "We need to change the working directory from its current folder to its parent folder"
   ]
  },
  {
   "cell_type": "markdown",
   "metadata": {},
   "source": [
    "We access the current directory with os.getcwd()"
   ]
  },
  {
   "cell_type": "code",
   "execution_count": 14,
   "metadata": {},
   "outputs": [
    {
     "data": {
      "text/plain": [
       "'/Users/carolina/Documents/CodeInstitute/benign-malignant-classification/jupyter_notebooks'"
      ]
     },
     "execution_count": 14,
     "metadata": {},
     "output_type": "execute_result"
    }
   ],
   "source": [
    "current_dir = os.getcwd()\n",
    "current_dir"
   ]
  },
  {
   "cell_type": "markdown",
   "metadata": {},
   "source": [
    "We want to make the parent of the current directory the new current directory"
   ]
  },
  {
   "cell_type": "markdown",
   "metadata": {},
   "source": [
    "* os.path.dirname() gets the parent directory  \n",
    "* os.chir() defines the new current directory"
   ]
  },
  {
   "cell_type": "code",
   "execution_count": 15,
   "metadata": {},
   "outputs": [
    {
     "name": "stdout",
     "output_type": "stream",
     "text": [
      "You set a new current directory\n"
     ]
    }
   ],
   "source": [
    "os.chdir(os.path.dirname(current_dir))\n",
    "print(\"You set a new current directory\")"
   ]
  },
  {
   "cell_type": "markdown",
   "metadata": {},
   "source": [
    "Confirm the new current directory"
   ]
  },
  {
   "cell_type": "code",
   "execution_count": 16,
   "metadata": {},
   "outputs": [
    {
     "data": {
      "text/plain": [
       "'/Users/carolina/Documents/CodeInstitute/benign-malignant-classification'"
      ]
     },
     "execution_count": 16,
     "metadata": {},
     "output_type": "execute_result"
    }
   ],
   "source": [
    "working_dir = os.getcwd()\n",
    "working_dir"
   ]
  },
  {
   "cell_type": "markdown",
   "metadata": {},
   "source": [
    "### Set Input Directories"
   ]
  },
  {
   "cell_type": "markdown",
   "metadata": {},
   "source": [
    "Set train, validation and test paths."
   ]
  },
  {
   "cell_type": "code",
   "execution_count": 17,
   "metadata": {},
   "outputs": [],
   "source": [
    "input_dir = 'input/Benign_Malignant_DataSet/MainData/'\n",
    "train_path = os.path.join(input_dir, 'train')\n",
    "test_path = os.path.join(input_dir, 'test')\n",
    "validation_path = os.path.join(input_dir, 'validation')"
   ]
  },
  {
   "cell_type": "code",
   "execution_count": 18,
   "metadata": {},
   "outputs": [],
   "source": [
    "version = 'v1'\n",
    "file_path = os.path.join('outputs', version)\n",
    "\n",
    "if 'outputs' in os.listdir(working_dir) and version in \\\n",
    "        os.listdir(os.path.join(working_dir, 'outputs')):\n",
    "    print('This version of the output dataset already exists.')\n",
    "    pass\n",
    "else:\n",
    "    os.makedirs(name=file_path)"
   ]
  },
  {
   "cell_type": "markdown",
   "metadata": {},
   "source": [
    "### Set label names"
   ]
  },
  {
   "cell_type": "code",
   "execution_count": 19,
   "metadata": {},
   "outputs": [
    {
     "name": "stdout",
     "output_type": "stream",
     "text": [
      "Label for the images are ['malignant', 'benign']\n"
     ]
    }
   ],
   "source": [
    "# Set the labels\n",
    "labels = os.listdir(train_path)\n",
    "print('Label for the images are', labels)"
   ]
  },
  {
   "cell_type": "markdown",
   "metadata": {},
   "source": [
    "### Image Shape"
   ]
  },
  {
   "cell_type": "markdown",
   "metadata": {},
   "source": [
    "Though the images are of the same shape, we should nevertheless compute the average image size of the train set."
   ]
  },
  {
   "cell_type": "code",
   "execution_count": 20,
   "metadata": {},
   "outputs": [
    {
     "data": {
      "image/png": "[encoded data removed]",
      "text/plain": [
       "<Figure size 640x480 with 1 Axes>"
      ]
     },
     "metadata": {},
     "output_type": "display_data"
    },
    {
     "name": "stdout",
     "output_type": "stream",
     "text": [
      "Width average: 1106 \n",
      "Height average: 800\n"
     ]
    }
   ],
   "source": [
    "# analyse image dimensions\n",
    "image_height, image_width = [], []\n",
    "for label in labels:\n",
    "    for image_file in os.listdir(os.path.join(train_path, label)):\n",
    "        image = imread(os.path.join(train_path, label, image_file))\n",
    "        image_height.append(image.shape[0])\n",
    "        image_width.append(image.shape[1])\n",
    "\n",
    "# plot image dimension graph\n",
    "sns.set_style('darkgrid')\n",
    "fig, axes = plt.subplots()\n",
    "sns.scatterplot(x=image_width, y=image_height, alpha=0.2)\n",
    "axes.set_xlabel('Width (pixels)')\n",
    "axes.set_ylabel('Height (pixels)')\n",
    "image_height_mean = int(np.array(image_height).mean())\n",
    "image_width_mean = int(np.array(image_width).mean())\n",
    "axes.axvline(x=image_height_mean, color='r', linestyle='--')\n",
    "axes.axhline(y=image_width_mean, color='r', linestyle='--')\n",
    "plt.show()\n",
    "print(f'Width average: {image_width_mean} \\nHeight average: '\n",
    "      f'{image_height_mean}')"
   ]
  },
  {
   "cell_type": "code",
   "execution_count": 21,
   "metadata": {},
   "outputs": [
    {
     "data": {
      "text/plain": [
       "(320, 442, 3)"
      ]
     },
     "execution_count": 21,
     "metadata": {},
     "output_type": "execute_result"
    }
   ],
   "source": [
    "# image_shape = (image_height_mean, image_width_mean, 3)\n",
    "# instead of taking the identified mean dimensions of the images,\n",
    "# we will decrease the dimensions in order to increase speed of model training\n",
    "image_shape = (int(image_height_mean/2.5), int(image_width_mean/2.5), 3)\n",
    "image_shape"
   ]
  },
  {
   "cell_type": "markdown",
   "metadata": {},
   "source": [
    "Save the image shape embeddings (will serve for uploading a photo that is not from the dataset)"
   ]
  },
  {
   "cell_type": "code",
   "execution_count": 22,
   "metadata": {},
   "outputs": [
    {
     "data": {
      "text/plain": [
       "['outputs/v1/image_shape.pkl']"
      ]
     },
     "execution_count": 22,
     "metadata": {},
     "output_type": "execute_result"
    }
   ],
   "source": [
    "joblib.dump(value=image_shape,\n",
    "            filename=os.path.join(file_path, 'image_shape.pkl'))"
   ]
  }
 ],
 "metadata": {
  "kernelspec": {
   "display_name": "Python 3",
   "language": "python",
   "name": "python3"
  },
  "language_info": {
   "codemirror_mode": {
    "name": "ipython",
    "version": 3
   },
   "file_extension": ".py",
   "mimetype": "text/x-python",
   "name": "python",
   "nbconvert_exporter": "python",
   "pygments_lexer": "ipython3",
   "version": "3.8.19"
  }
 },
 "nbformat": 4,
 "nbformat_minor": 2
}
